{
 "cells": [
  {
   "cell_type": "code",
   "execution_count": 347,
   "metadata": {},
   "outputs": [],
   "source": [
    "from bs4 import BeautifulSoup\n",
    "from selenium import webdriver\n",
    "from selenium.webdriver.common.keys import Keys\n",
    "import time\n",
    "\n",
    "\n",
    "# headless option\n",
    "options = webdriver.ChromeOptions()\n",
    "options.add_argument('headless')\n",
    "options.add_argument('window-size=1920x1080')\n",
    "\n",
    "driver = webdriver.Chrome('drivers/chromedriver', options=options)\n",
    "\n",
    "url = 'https://brunch.co.kr/keyword/IT_트렌드?q=g'\n",
    "driver.get(url)\n",
    "elem = driver.find_element_by_tag_name('body')\n",
    "\n",
    "cnt = 5\n",
    "while cnt:\n",
    "    elem.send_keys(Keys.END)\n",
    "    time.sleep(1)\n",
    "    cnt -= 1\n",
    "    \n",
    "html = driver.page_source\n",
    "soup = BeautifulSoup(html, 'html.parser')\n",
    "a_tags = soup.body.find_all('a', {'class': 'link_post'})\n",
    "\n",
    "driver.quit()"
   ]
  },
  {
   "cell_type": "code",
   "execution_count": 348,
   "metadata": {},
   "outputs": [],
   "source": [
    "from pytz import timezone\n",
    "from datetime import datetime, timedelta\n",
    "\n",
    "def is_today(date_str):\n",
    "    # *시간전 or *분전\n",
    "    if len(date_str) < 6:\n",
    "        return True\n",
    "\n",
    "    KST = timezone('Asia/Seoul')\n",
    "    today = datetime.now(KST).strftime('%d')\n",
    "    pub = datetime.strptime(date_str, '%b %d. %Y').strftime('%d')\n",
    "    return pub == today"
   ]
  },
  {
   "cell_type": "code",
   "execution_count": 349,
   "metadata": {},
   "outputs": [
    {
     "name": "stdout",
     "output_type": "stream",
     "text": [
      "https://brunch.co.kr/@@2fEJ/885\n",
      "Today 해외 UI/UX 뉴스레터 #92 (7월7일)\n",
      "Today 해외 UI/UX 뉴스레터 #92 (7월7일)  안녕하세요. UX 컨설턴트 전민수입니다.  요즘 국내/해외 UX 방법론 A-Z 연구하는데 열중하고 있습니다. UX 방법론에 대한 연구 결과물은 인강, 스터디, 강좌에서 100% 공유해 드리고 있습니다. 저한테 메일, 카톡으로 UX 강의 문의가 많이 오는데 정리하면 다음과 같습니다.  1. 인터넷 강의 ...\n",
      "by UX 컨설턴트 전민수\n",
      "1시간전\n",
      "\n",
      "https://brunch.co.kr/@@9vqT/50\n",
      "편의점에 로봇 직원이 나타난다면?\n",
      "일본 편의점 훼미리마트는 지난 6월 말, 로봇 벤처 기업 \"Telexistence\"와 협업하여 원격 제어로봇을 매장에 도입한다고 발표했다.  올여름 첫 파일럿을 진행하고, '22년까지 최대 총 20개 점포에 원격 제어 로봇을 도입할 예정이다.  '19년 기준 일본 편의점 수는 5만 6,173개이다.  1위 세븐일레븐 2만 260개, 2위 패밀리마트 1만 7 ...\n",
      "by YM\n",
      "3시간전\n",
      "\n",
      "https://brunch.co.kr/@@Zvf/89\n",
      "Google Translate에서 성별 번역 제공하기\n",
      "지난 몇 년 동안 Google Translate는 엔드 투 엔드 신경망 기반 시스템으로 전환하여 번역 품질을 크게 개선했습니다. 동시에, 우리는 모델로부터의 번역이 성 편향과 같은 사회적 편향을 반영할 수 있음을 깨달았습니다. 특히 언어는 성별을 나타내는 방식이 많이 다르며, 번역하는 동안 모호성이 있는 경우 시스템은 사회적 비대칭적인 성을 반영하는 성별  ...\n",
      "by 시나브로의 테크산책\n",
      "4시간전\n",
      "\n",
      "https://brunch.co.kr/@@6Juu/50\n",
      "슬기로운 폴더폰 생활이 종료되었습니다.\n",
      "폴더폰을 잃어버리다.  그냥 조용히 혼자 벌였으면 아무도 몰랐을 텐데, 6개월 폴더폰 생활을 하겠다고 몇 번이나 떠들어 놓고 2달 만에 폴더폰 생활이 종료되었다. 변명을 하자면 내가 먼저 떨어져 나간 것은 아니고, 예상치 못한 변수가 생겼기 때문이다. 바로 나의 띨띨함과 덤벙거림. 그날도 다른 날과 별로 다름없는 날이었다. 아이는 속옷 챙겨 입듯 당연하게  ...\n",
      "by 또랭\n",
      "5시간전\n",
      "\n",
      "https://brunch.co.kr/@@2fEJ/889\n",
      "Today 국내 UI/UX 뉴스레터 #5 (7월7일) \n",
      "Today 국내 UI/UX 뉴스레터 #5 (7월7일)  안녕하세요. UX 컨설턴트 전민수입니다.  요즘 국내/해외 UX 방법론 A-Z 연구하는데 열중하고 있습니다. UX 방법론에 대한 연구 결과물은 인강, 스터디, 강좌에서 100% 공유해 드리고 있습니다. 저한테 메일, 카톡으로 UX 강의 문의가 많이 오는데 정리하면 다음과 같습니다.  1. 인터넷 강의: ...\n",
      "by UX 컨설턴트 전민수\n",
      "6시간전\n",
      "\n",
      "https://brunch.co.kr/@@9zTH/2\n",
      "디지털트랜스포메이션과 엔터프라이즈 UX, 그 시작\n",
      "Enterprise Software를 만드는 회사의 UX팀에서 막 일하기 시작했던 2015년 봄 무렵, 타사 소프트웨어의 UX 분석 결과를 보고하는 자리에 참석했다. 분석 대상은 ‘Apple’이 디자인을 했고, 기업용 소프트웨어의 강자인 IBM이 기획하고 판매 중인 태블릿 PC 용 소프트웨어였다. 다른 회사의 모바일 솔루션과는 다르게 소비자들의 좋은 반응을 ...\n",
      "by 동팀동구\n",
      "7시간전\n",
      "\n"
     ]
    }
   ],
   "source": [
    "for e in a_tags:\n",
    "    publish_time = e.find('span', {'class': 'publish_time'}).text\n",
    "    if not is_today(publish_time):\n",
    "        break\n",
    "        \n",
    "    print('https://brunch.co.kr' + e['href'])\n",
    "    print(e.find('strong').text)\n",
    "    print(e.find('span', {'class': 'article_content'}).text + ' ...')\n",
    "    print('by ' + e.find_all('span', {'class': 'name_txt'})[-1].text)\n",
    "    print(publish_time)\n",
    "    print()\n"
   ]
  }
 ],
 "metadata": {
  "kernelspec": {
   "display_name": "Python 3",
   "language": "python",
   "name": "python3"
  },
  "language_info": {
   "codemirror_mode": {
    "name": "ipython",
    "version": 3
   },
   "file_extension": ".py",
   "mimetype": "text/x-python",
   "name": "python",
   "nbconvert_exporter": "python",
   "pygments_lexer": "ipython3",
   "version": "3.5.2"
  }
 },
 "nbformat": 4,
 "nbformat_minor": 4
}
