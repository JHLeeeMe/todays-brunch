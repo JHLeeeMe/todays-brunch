{
 "cells": [
  {
   "cell_type": "code",
   "execution_count": 1,
   "metadata": {},
   "outputs": [],
   "source": [
    "from bs4 import BeautifulSoup\n",
    "from selenium import webdriver\n",
    "from selenium.webdriver.common.keys import Keys\n",
    "import time\n",
    "\n",
    "\n",
    "# headless option\n",
    "options = webdriver.ChromeOptions()\n",
    "options.add_argument('headless')\n",
    "options.add_argument('window-size=1920x1080')\n",
    "\n",
    "driver = webdriver.Chrome('../web-drivers/chromedriver', options=options)\n",
    "\n",
    "url = 'https://brunch.co.kr/keyword/IT_트렌드?q=g'\n",
    "driver.get(url)\n",
    "elem = driver.find_element_by_tag_name('body')\n",
    "\n",
    "for i in range(5):\n",
    "    elem.send_keys(Keys.END)\n",
    "    time.sleep(1)\n",
    "    \n",
    "html = driver.page_source\n",
    "soup = BeautifulSoup(html, 'html.parser')\n",
    "a_tags = soup.body.find_all('a', {'class': 'link_post'})\n",
    "\n",
    "driver.quit()"
   ]
  },
  {
   "cell_type": "code",
   "execution_count": 6,
   "metadata": {},
   "outputs": [],
   "source": [
    "from datetime import datetime\n",
    "from pytz import timezone\n",
    "from typing import List \n",
    "import bs4\n",
    "\n",
    "Tag = bs4.element.Tag\n",
    "\n",
    "def is_today(date_str: str) -> List[Tag] :\n",
    "    # *시간전 or *분전\n",
    "    if len(date_str) < 6:\n",
    "        return True\n",
    "\n",
    "    KST = timezone('Asia/Seoul')\n",
    "    today = datetime.now(KST).strftime('%d')\n",
    "    pub = datetime.strptime(date_str, '%b %d. %Y').strftime('%d')\n",
    "    return pub == today"
   ]
  },
  {
   "cell_type": "code",
   "execution_count": 7,
   "metadata": {},
   "outputs": [],
   "source": [
    "KST = timezone('Asia/Seoul')\n",
    "issue_title = \"[IT 트렌드] Today's brunch - \" + datetime.now(KST).strftime('%Y.%m.%d')\n",
    "issue_body = ''\n",
    "for e in a_tags:\n",
    "    publish_time = e.find('span', {'class': 'publish_time'}).text\n",
    "    if not is_today(publish_time):\n",
    "        break\n",
    "\n",
    "    href = 'https://brunch.co.kr' + e['href']\n",
    "    author = 'by ' + e.find_all('span', {'class': 'name_txt'})[-1].text\n",
    "    title = e.find('strong').text\n",
    "    content = e.find('span', {'class': 'article_content'}).text + ' ...'\n",
    "    issue_body += '<h1>' + title + '</h1><a href=\"' + href + '\">' + href + '</a><br><br>' + content + '<h3><p align=\"right\">' + author + '</h3></p><br><br><br>'"
   ]
  },
  {
   "cell_type": "code",
   "execution_count": 5,
   "metadata": {},
   "outputs": [],
   "source": [
    "import os\n",
    "import sys\n",
    "from github import Github\n",
    "\n",
    "if issue_body == '':\n",
    "    sys.exit()\n",
    "\n",
    "try:\n",
    "    GITHUB_TOKEN = os.environ['GITHUB_TOKEN']\n",
    "    REPO_NAME = 'todays-brunch'\n",
    "\n",
    "    repo = Github(GITHUB_TOKEN).get_user().get_repo(REPO_NAME)\n",
    "    res = repo.create_issue(title=issue_title, body=issue_body)\n",
    "except Exception as e:\n",
    "    print(e)"
   ]
  }
 ],
 "metadata": {
  "kernelspec": {
   "display_name": "Python 3",
   "language": "python",
   "name": "python3"
  },
  "language_info": {
   "codemirror_mode": {
    "name": "ipython",
    "version": 3
   },
   "file_extension": ".py",
   "mimetype": "text/x-python",
   "name": "python",
   "nbconvert_exporter": "python",
   "pygments_lexer": "ipython3",
   "version": "3.5.2"
  }
 },
 "nbformat": 4,
 "nbformat_minor": 4
}
